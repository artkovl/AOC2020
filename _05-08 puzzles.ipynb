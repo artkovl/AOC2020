{
 "cells": [
  {
   "cell_type": "markdown",
   "metadata": {},
   "source": [
    "# Puzzle_05\n",
    "## part 1"
   ]
  },
  {
   "cell_type": "code",
   "execution_count": null,
   "metadata": {},
   "outputs": [],
   "source": [
    "\n",
    "with open('05 input.txt') as fh:\n",
    "    for line in fh:\n",
    "        if line[0] == F"
   ]
  },
  {
   "cell_type": "code",
   "execution_count": 32,
   "metadata": {},
   "outputs": [
    {
     "name": "stdout",
     "output_type": "stream",
     "text": [
      "row = 102\n",
      "col = 4\n",
      "ind = 820\n"
     ]
    }
   ],
   "source": [
    "line = 'BBFFBBFRLL'\n",
    "\n",
    "row = list(range(0, 128))\n",
    "for i in line[:7]:\n",
    "    if i == 'F':\n",
    "        sl_end = int(len(row) / 2)\n",
    "        row = row[:sl_end]\n",
    "    else:\n",
    "        sl_strt = int(len(row) / 2)\n",
    "        row = row[sl_strt:]\n",
    "print('row =', row[0])\n",
    "\n",
    "col = list(range(0, 8))\n",
    "for i in line[7:]:\n",
    "    if i == 'L':\n",
    "        sl_end = int(len(col) / 2)\n",
    "        col = col[:sl_end]\n",
    "    else:\n",
    "        sl_strt = int(len(col) / 2)\n",
    "        col = col[sl_strt:]\n",
    "print('col =', col[0])\n",
    "\n",
    "ind = row[0] * 8 + col[0]\n",
    "print('ind =', ind)"
   ]
  },
  {
   "cell_type": "code",
   "execution_count": 34,
   "metadata": {},
   "outputs": [
    {
     "name": "stdout",
     "output_type": "stream",
     "text": [
      "855\n"
     ]
    }
   ],
   "source": [
    "# Puzzle_05\n",
    "## part 1\n",
    "\n",
    "with open('05 input.txt') as fh:\n",
    "    seat_IDs = []\n",
    "        \n",
    "    for line in fh:\n",
    "        row = list(range(0, 128))\n",
    "        for i in line[:7]:\n",
    "            if i == 'F':\n",
    "                sl_end = int(len(row) / 2)\n",
    "                row = row[:sl_end]\n",
    "            else:\n",
    "                sl_strt = int(len(row) / 2)\n",
    "                row = row[sl_strt:]\n",
    "\n",
    "        col = list(range(0, 8))\n",
    "        for i in line[7:]:\n",
    "            if i == 'L':\n",
    "                sl_end = int(len(col) / 2)\n",
    "                col = col[:sl_end]\n",
    "            else:\n",
    "                sl_strt = int(len(col) / 2)\n",
    "                col = col[sl_strt:]\n",
    "\n",
    "        seat_id = row[0] * 8 + col[0]\n",
    "        seat_IDs.append(seat_id)\n",
    "        \n",
    "print(max(seat_IDs))"
   ]
  },
  {
   "cell_type": "code",
   "execution_count": 55,
   "metadata": {},
   "outputs": [
    {
     "name": "stdout",
     "output_type": "stream",
     "text": [
      "seat_ID: 552\n"
     ]
    }
   ],
   "source": [
    "# Puzzle_05\n",
    "## part 2\n",
    "\n",
    "with open('05 input.txt') as fh:\n",
    "    seat_IDs = []\n",
    "    seats_occupied = {}\n",
    "    \n",
    "    for line in fh:\n",
    "        row = list(range(0, 128))\n",
    "        for i in line[:7]:\n",
    "            if i == 'F':\n",
    "                sl_end = int(len(row) / 2)\n",
    "                row = row[:sl_end]\n",
    "            else:\n",
    "                sl_strt = int(len(row) / 2)\n",
    "                row = row[sl_strt:]\n",
    "\n",
    "        if row[0] not in seats_occupied:\n",
    "            seats_occupied[row[0]] = []\n",
    "\n",
    "        col = list(range(0, 8))\n",
    "        for i in line[7:]:\n",
    "            if i == 'L':\n",
    "                sl_end = int(len(col) / 2)\n",
    "                col = col[:sl_end]\n",
    "            else:\n",
    "                sl_strt = int(len(col) / 2)\n",
    "                col = col[sl_strt:]\n",
    "        \n",
    "        seats_occupied[row[0]].append(col[0])\n",
    "        \n",
    "    for row, seat in seats_occupied.items():\n",
    "        if len(seat) < 8:\n",
    "            if row - 1 in seats_occupied and row + 1 in seats_occupied:\n",
    "                seat_num = list((set(range(0,8))) - set(seat))[0]\n",
    "                #print(seat_num)\n",
    "                print('seat_ID:', row * 8 + seat_num)"
   ]
  },
  {
   "cell_type": "code",
   "execution_count": 46,
   "metadata": {},
   "outputs": [
    {
     "name": "stdout",
     "output_type": "stream",
     "text": [
      "[3, 1, 6, 4, 5, 2, 7]\n",
      "[2, 5, 7, 0, 1, 6, 4, 3]\n",
      "[1, 4, 0, 6, 5, 3, 2, 7]\n",
      "[2, 4, 5, 3, 6, 7, 1]\n",
      "[6, 1, 4, 3, 5, 0, 2, 7]\n"
     ]
    }
   ],
   "source": [
    "# print(seats_occupied[10]) - нет такого ряда\n",
    "print(seats_occupied[10])\n",
    "print(seats_occupied[11])\n",
    "\n",
    "print(seats_occupied[68])\n",
    "print(seats_occupied[69])\n",
    "print(seats_occupied[70])"
   ]
  },
  {
   "cell_type": "markdown",
   "metadata": {},
   "source": [
    "# Puzzle_06\n",
    "## part 1"
   ]
  },
  {
   "cell_type": "code",
   "execution_count": 4,
   "metadata": {},
   "outputs": [
    {
     "name": "stdout",
     "output_type": "stream",
     "text": [
      "{'a', 'r', 'q', 'b', 't'}\n",
      "{'a', 'r', 'q', 'b', 't', 'c'}\n",
      "{'a', 'r', 'q', 'b', 't', 'c', 'd'}\n",
      "7\n"
     ]
    }
   ],
   "source": [
    "line = 'abrtq'\n",
    "l2 = 'acrtq'\n",
    "l3 = 'adrtq'\n",
    "gr_yes_set = set()\n",
    "ans_yes = 0\n",
    "for lett in line:\n",
    "    gr_yes_set.add(lett)\n",
    "print(gr_yes_set)\n",
    "for lett in l2:\n",
    "    gr_yes_set.add(lett)\n",
    "print(gr_yes_set)\n",
    "for lett in l3:\n",
    "    gr_yes_set.add(lett)\n",
    "print(gr_yes_set)\n",
    "print(len(gr_yes_set))"
   ]
  },
  {
   "cell_type": "code",
   "execution_count": 17,
   "metadata": {},
   "outputs": [
    {
     "name": "stdout",
     "output_type": "stream",
     "text": [
      "6297\n"
     ]
    }
   ],
   "source": [
    "# Puzzle_05\n",
    "## part 1\n",
    "\n",
    "with open('06 input.txt') as fh:\n",
    "    gr_yes_set = set()\n",
    "    yes_summ = []\n",
    "    for line in fh:\n",
    "        if line.strip() == '':\n",
    "            yes_summ.append(len(gr_yes_set))\n",
    "            gr_yes_set = set()\n",
    "        else:\n",
    "            for lett in line.strip():\n",
    "                gr_yes_set.add(lett)\n",
    "    print(sum(yes_summ))"
   ]
  },
  {
   "cell_type": "code",
   "execution_count": 54,
   "metadata": {},
   "outputs": [
    {
     "name": "stdout",
     "output_type": "stream",
     "text": [
      "3158\n"
     ]
    }
   ],
   "source": [
    "# Puzzle_05\n",
    "## part 2\n",
    "\n",
    "with open('06 input.txt') as fh:\n",
    "    gr_yes_set = []\n",
    "    gr_yes_list = []\n",
    "    gr_yes_common = set()\n",
    "    yes_summ = []\n",
    "    for line in fh:\n",
    "        if line.strip() == '':\n",
    "            gr_yes_common = set(gr_yes_list[0])  # тут была главная ошибка - пытался добавить [0] элемент через add\n",
    "#            print('1)=', gr_yes_common)\n",
    "            for i in gr_yes_list[1:]:\n",
    "                gr_yes_common = gr_yes_common & set(i)\n",
    "#                print('2)=', gr_yes_common)\n",
    "#            print('***', gr_yes_list, 'comm', gr_yes_common, len(gr_yes_common))\n",
    "            yes_summ.append(len(gr_yes_common))\n",
    "            gr_yes_set = []\n",
    "            gr_yes_list = []\n",
    "            gr_yes_common = set()\n",
    "        else:\n",
    "            for lett in line.strip():\n",
    "                gr_yes_set.append(lett)\n",
    "#                print(gr_yes_set)\n",
    "            gr_yes_list.append(gr_yes_set)\n",
    "            gr_yes_set = []\n",
    "#            print('*',gr_yes_list)\n",
    "#                gr_yes_common = gr_yes_common & gr_yes_set\n",
    "    print(sum(yes_summ))"
   ]
  },
  {
   "cell_type": "markdown",
   "metadata": {},
   "source": [
    "# Puzzle_07\n",
    "## part 1"
   ]
  },
  {
   "cell_type": "code",
   "execution_count": 5,
   "metadata": {},
   "outputs": [
    {
     "name": "stdout",
     "output_type": "stream",
     "text": [
      "{'light red': '1 bright white bag, 2 muted yellow bags.', 'dark orange': '3 bright white bags, 4 muted yellow bags.', 'bright white': '1 shiny gold bag.', 'muted yellow': '2 shiny gold bags, 9 faded blue bags.', 'shiny gold': '1 dark olive bag, 2 vibrant plum bags.', 'dark olive': '3 faded blue bags, 4 dotted black bags.', 'vibrant plum': '5 faded blue bags, 6 dotted black bags.', 'faded blue': 'no other bags.', 'dotted black': 'no other bags.'}\n",
      "6\n"
     ]
    }
   ],
   "source": [
    "# Puzzle_07\n",
    "## part 1\n",
    "\n",
    "\n",
    "def bag_search(the_bag):\n",
    "    bag_list = []\n",
    "    for bag, contains in bags.items():\n",
    "        if the_bag in contains:\n",
    "            bag_list.append(bag)\n",
    "    return bag_list\n",
    "\n",
    "\n",
    "\n",
    "the_bag = 'shiny gold'\n",
    "bags = {}\n",
    "num_of_bugs = 0\n",
    "with open ('07 input_test.txt') as fh:\n",
    "    for line in fh:\n",
    "        bagline = line.strip().split(' bags contain ')\n",
    "        bags[bagline[0]] = bagline[1]\n",
    "    print(bags)\n",
    "    \n",
    "    bag_list = bag_search(the_bag)\n",
    "    \n",
    "    if len(bag_list) == 0:\n",
    "        print(num_of_bugs)\n",
    "    else:\n",
    "        num_of_bugs += len(bag_list)\n",
    "        for bag in bag_list:\n",
    "            new_list = bag_search(bag)\n",
    "            if len(bag_list) == 0:\n",
    "                print(num_of_bugs)\n",
    "            else:\n",
    "                num_of_bugs += len(bag_list)\n",
    "            \n",
    "    print(num_of_bugs)\n",
    "#    num_of_bugs_new = len(bag_list)\n",
    "\n",
    "#    for bag in bag_list:\n",
    "#        bag_list_new = bag_search(bag)\n",
    "#        \n",
    "#   \n",
    "#    if num_of_bugs_new == 0:\n",
    "#        print(num_of_bugs)\n",
    "#        break\n",
    "#    else:\n",
    "#        num_of_bugs += num_of_bugs_new\n",
    "        "
   ]
  },
  {
   "cell_type": "code",
   "execution_count": 7,
   "metadata": {},
   "outputs": [
    {
     "name": "stdout",
     "output_type": "stream",
     "text": [
      "287\n"
     ]
    }
   ],
   "source": [
    "# Puzzle_07\n",
    "## part 1 \n",
    "\n",
    "# 2nd try\n",
    "\n",
    "def bag_search(the_bag):\n",
    "    \n",
    "    for bag, contains in bags.items():\n",
    "        if the_bag in contains:\n",
    "            bag_list.append(bag)\n",
    "            bag_search(bag)\n",
    "    return bag_list\n",
    "\n",
    "the_bag = 'shiny gold'\n",
    "bags = {}\n",
    "bag_list = []\n",
    "\n",
    "with open ('07 input.txt') as fh:\n",
    "    for line in fh:\n",
    "        bagline = line.strip().split(' bags contain ')\n",
    "        bags[bagline[0]] = bagline[1]\n",
    "    \n",
    "    bag_list = bag_search(the_bag)\n",
    "    print(len(set(bag_list)))    "
   ]
  },
  {
   "cell_type": "code",
   "execution_count": 95,
   "metadata": {},
   "outputs": [],
   "source": [
    "# Puzzle_07\n",
    "## part 2\n",
    "\n",
    "the_bag = 'shiny gold'\n",
    "bags = {}\n",
    "bag_list = []\n",
    "\n",
    "with open ('07 input_test2.txt') as fh:\n",
    "    for line in fh:\n",
    "        bagline = line.strip().split(' bags contain ')\n",
    "        bags[bagline[0]] = bagline[1].split(', ')"
   ]
  },
  {
   "cell_type": "code",
   "execution_count": 96,
   "metadata": {},
   "outputs": [
    {
     "name": "stdout",
     "output_type": "stream",
     "text": [
      "{'shiny gold': ['2 dark red bags.'], 'dark red': ['2 dark orange bags.'], 'dark orange': ['2 dark yellow bags.'], 'dark yellow': ['2 dark green bags.'], 'dark green': ['2 dark blue bags.'], 'dark blue': ['2 dark violet bags.'], 'dark violet': ['no other bags.']}\n"
     ]
    }
   ],
   "source": [
    "print(bags)"
   ]
  },
  {
   "cell_type": "code",
   "execution_count": 97,
   "metadata": {},
   "outputs": [
    {
     "name": "stdout",
     "output_type": "stream",
     "text": [
      "{'shiny gold': {'dark red': 2}, 'dark red': {'dark orange': 2}, 'dark orange': {'dark yellow': 2}, 'dark yellow': {'dark green': 2}, 'dark green': {'dark blue': 2}, 'dark blue': {'dark violet': 2}, 'dark violet': {}}\n"
     ]
    }
   ],
   "source": [
    "#рекурсия заработала\n",
    "the_bag_tree = {}\n",
    "\n",
    "def bag_tree(the_bag):\n",
    "    for bag, contains in bags.items():\n",
    "        if bag == the_bag:\n",
    "            bags_in_the_bag = {}\n",
    "            for bagg in contains:\n",
    "                if bagg.split()[0].isdigit() == True:  # убрали пустые чемоданы\n",
    "                    bagg_name = bagg.split()[1] + ' ' + bagg.split()[2]\n",
    "                    bags_in_the_bag[bagg_name] = int(bagg.split()[0])\n",
    "                    the_bag_tree[bag] = bags_in_the_bag\n",
    "                    bag_tree(bagg_name)\n",
    "                else:\n",
    "                    the_bag_tree[bag] = dict()\n",
    "    return the_bag_tree\n",
    "\n",
    "the_bag_tree = bag_tree(the_bag)\n",
    "print(the_bag_tree)"
   ]
  },
  {
   "cell_type": "markdown",
   "metadata": {},
   "source": [
    "with HELP https://www.reddit.com/r/adventofcode/comments/k8xatx/2020_day_7_part_2_help_with_python3_recursive/"
   ]
  },
  {
   "cell_type": "code",
   "execution_count": 98,
   "metadata": {},
   "outputs": [
    {
     "name": "stdout",
     "output_type": "stream",
     "text": [
      "bags = {'dark red': 2}\n",
      "adding 2\n",
      "going into dark red\n",
      "bags = {'dark orange': 2}\n",
      "adding 2\n",
      "going into dark orange\n",
      "bags = {'dark yellow': 2}\n",
      "adding 2\n",
      "going into dark yellow\n",
      "bags = {'dark green': 2}\n",
      "adding 2\n",
      "going into dark green\n",
      "bags = {'dark blue': 2}\n",
      "adding 2\n",
      "going into dark blue\n",
      "bags = {'dark violet': 2}\n",
      "adding 2\n",
      "going into dark violet\n",
      "dark violet empty, returning 0\n",
      "= 2\n",
      "= 6\n",
      "= 14\n",
      "= 30\n",
      "= 62\n",
      "= 126\n",
      "126\n"
     ]
    }
   ],
   "source": [
    "# with HELP https://www.reddit.com/r/adventofcode/comments/k8xatx/2020_day_7_part_2_help_with_python3_recursive/\n",
    "\n",
    "def count_bags(the_bag):\n",
    "    bags_sum  = 0\n",
    "    if the_bag_tree[the_bag] == {}:\n",
    "        print(f\"{the_bag} empty, returning 0\")\n",
    "        return 0\n",
    "    print(f\"bags = {the_bag_tree[the_bag]}\")\n",
    "    for bag in the_bag_tree[the_bag]:\n",
    "        print(f\"adding {the_bag_tree[the_bag][bag]}\")\n",
    "        bags_sum += the_bag_tree[the_bag][bag]\n",
    "        print(f\"going into {bag}\")\n",
    "        bags_sum += the_bag_tree[the_bag][bag] * (count_bags(bag))\n",
    "        print('=', bags_sum)\n",
    "    return bags_sum\n",
    "\n",
    "print(count_bags('shiny gold'))\n"
   ]
  },
  {
   "cell_type": "code",
   "execution_count": 102,
   "metadata": {},
   "outputs": [
    {
     "name": "stdout",
     "output_type": "stream",
     "text": [
      "{'shiny gold': {'plaid tan': 1, 'light beige': 3, 'posh brown': 1}, 'plaid tan': {}, 'light beige': {'clear purple': 5, 'plaid teal': 2}, 'clear purple': {'muted bronze': 4, 'shiny silver': 3, 'pale salmon': 4, 'plaid fuchsia': 3}, 'muted bronze': {'dotted blue': 4, 'pale purple': 3, 'drab magenta': 5}, 'dotted blue': {'clear turquoise': 3, 'shiny silver': 2}, 'clear turquoise': {'pale black': 4, 'plaid purple': 5, 'bright gold': 4}, 'pale black': {}, 'plaid purple': {}, 'bright gold': {}, 'shiny silver': {}, 'pale purple': {}, 'drab magenta': {}, 'pale salmon': {'vibrant orange': 3}, 'vibrant orange': {'plaid tan': 3, 'dotted blue': 4, 'bright gold': 3, 'bright white': 3}, 'bright white': {'pale black': 1}, 'plaid fuchsia': {}, 'plaid teal': {}, 'posh brown': {'plaid fuchsia': 5, 'clear turquoise': 1, 'drab white': 5}, 'drab white': {'plaid teal': 5, 'shiny silver': 3, 'wavy plum': 3, 'bright white': 1}, 'wavy plum': {'plaid tan': 1, 'pale black': 3, 'wavy lime': 2, 'pale purple': 5}, 'wavy lime': {'pale purple': 3, 'plaid teal': 5, 'bright gold': 5, 'clear turquoise': 3}}\n",
      "48160\n"
     ]
    }
   ],
   "source": [
    "# Puzzle_07\n",
    "## part 2\n",
    "\n",
    "the_bag = 'shiny gold'\n",
    "bags = {}\n",
    "bag_list = []\n",
    "\n",
    "with open ('07 input.txt') as fh:\n",
    "    for line in fh:\n",
    "        bagline = line.strip().split(' bags contain ')\n",
    "        bags[bagline[0]] = bagline[1].split(', ')\n",
    "\n",
    "\n",
    "the_bag_tree = {}\n",
    "\n",
    "def bag_tree(the_bag):\n",
    "    for bag, contains in bags.items():\n",
    "        if bag == the_bag:\n",
    "            bags_in_the_bag = {}\n",
    "            for bagg in contains:\n",
    "                if bagg.split()[0].isdigit() == True:  # убрали пустые чемоданы\n",
    "                    bagg_name = bagg.split()[1] + ' ' + bagg.split()[2]\n",
    "                    bags_in_the_bag[bagg_name] = int(bagg.split()[0])\n",
    "                    the_bag_tree[bag] = bags_in_the_bag\n",
    "                    bag_tree(bagg_name)\n",
    "                else:\n",
    "                    the_bag_tree[bag] = dict()\n",
    "    return the_bag_tree\n",
    "\n",
    "#the_bag_tree = bag_tree(the_bag)\n",
    "print(bag_tree(the_bag))\n",
    "\n",
    "def count_bags(the_bag):\n",
    "    bags_sum  = 0\n",
    "    if the_bag_tree[the_bag] == {}:\n",
    "        #print(f\"{the_bag} empty, returning 0\")\n",
    "        return 0\n",
    "    #print(f\"bags = {the_bag_tree[the_bag]}\")\n",
    "    for bag in the_bag_tree[the_bag]:\n",
    "        #print(f\"adding {the_bag_tree[the_bag][bag]}\")\n",
    "        bags_sum += the_bag_tree[the_bag][bag]\n",
    "        #print(f\"going into {bag}\")\n",
    "        bags_sum += the_bag_tree[the_bag][bag] * (count_bags(bag))\n",
    "        #print('=', bags_sum)\n",
    "    return bags_sum\n",
    "\n",
    "print(count_bags('shiny gold'))"
   ]
  },
  {
   "cell_type": "markdown",
   "metadata": {},
   "source": [
    "# Puzzle_08\n",
    "## part 1\n"
   ]
  },
  {
   "cell_type": "code",
   "execution_count": 151,
   "metadata": {},
   "outputs": [
    {
     "name": "stdout",
     "output_type": "stream",
     "text": [
      "1709\n",
      "None\n"
     ]
    }
   ],
   "source": [
    "# Puzzle_08\n",
    "## part 1\n",
    "\n",
    "def iterator(line_numb):\n",
    "    global acc\n",
    "    if line_numb in line_numbs:\n",
    "        print(acc)\n",
    "        return acc\n",
    "    else:\n",
    "        line_numbs.append(line_numb)\n",
    "        #print(line_numbs)\n",
    "        if 'acc' in line[line_numb]:\n",
    "            acc += int(line[line_numb].split()[1])\n",
    "            #print(acc)\n",
    "            line_numb += 1\n",
    "        elif 'nop' in line[line_numb]:\n",
    "            line_numb += 1\n",
    "        elif 'jmp' in line[line_numb]:\n",
    "            line_numb += int(line[line_numb].split()[1])\n",
    "        iterator(line_numb)\n",
    "\n",
    "with open('08 input.txt') as fh:\n",
    "    line = fh.readlines()\n",
    "    line_numb = 0\n",
    "    line_numbs = []\n",
    "    acc = 0\n",
    "acc_val = iterator(0)\n",
    "print(acc_val)"
   ]
  },
  {
   "cell_type": "code",
   "execution_count": 4,
   "metadata": {},
   "outputs": [
    {
     "name": "stdout",
     "output_type": "stream",
     "text": [
      "1709\n"
     ]
    }
   ],
   "source": [
    "# Puzzle_08\n",
    "## part 1\n",
    "\n",
    "def iterator(line_numb):\n",
    "    global acc\n",
    "    if line_numb not in line_numbs:\n",
    "        line_numbs.append(line_numb)\n",
    "        #print(line_numbs)\n",
    "        if 'acc' in line[line_numb]:\n",
    "            acc += int(line[line_numb].split()[1])\n",
    "            #print(acc)\n",
    "            line_numb += 1\n",
    "        elif 'nop' in line[line_numb]:\n",
    "            line_numb += 1\n",
    "        elif 'jmp' in line[line_numb]:\n",
    "            line_numb += int(line[line_numb].split()[1])\n",
    "        iterator(line_numb)\n",
    "    return acc  # return внутри else выдает None\n",
    "\n",
    "        \n",
    "\n",
    "with open('08 input.txt') as fh:\n",
    "    line = fh.readlines()\n",
    "    line_numb = 0\n",
    "    line_numbs = []\n",
    "    acc = 0\n",
    "    print(iterator(line_numb))\n"
   ]
  },
  {
   "cell_type": "code",
   "execution_count": 23,
   "metadata": {},
   "outputs": [
    {
     "name": "stdout",
     "output_type": "stream",
     "text": [
      "Bingo!!! acc = 1976\n",
      "1976\n"
     ]
    }
   ],
   "source": [
    "# Puzzle_08\n",
    "## part 2\n",
    "\n",
    "def iterator(line_numb):\n",
    "    global acc, accc\n",
    "    if line_numb not in line_numbs:\n",
    "        line_numbs.append(line_numb)\n",
    "        #print(line_numbs)\n",
    "        if line[line_numb] == '\\n':\n",
    "            print('Bingo!!!', 'acc =', acc)\n",
    "            accc = acc\n",
    "            return acc, 'Bingo!!!'\n",
    "        elif 'acc' in line[line_numb]:\n",
    "            acc += int(line[line_numb].split()[1])\n",
    "            #print(acc)\n",
    "            line_numb += 1\n",
    "        elif 'nop' in line[line_numb]:\n",
    "            line_numb += 1\n",
    "        elif 'jmp' in line[line_numb]:\n",
    "            line_numb += int(line[line_numb].split()[1])\n",
    "        iterator(line_numb)\n",
    "    return acc, ''\n",
    "\n",
    "\n",
    "with open('08 input.txt') as fh:\n",
    "    line = fh.readlines()\n",
    "\n",
    "accc = 0\n",
    "for i, lin in enumerate(line):\n",
    "    line_numb = 0\n",
    "    line_numbs = []\n",
    "    acc = 0\n",
    "    #print(lin)\n",
    "    if 'nop' in lin:\n",
    "        line[i] = lin.replace('nop', 'jmp')\n",
    "        #print(line)\n",
    "        if iterator(line_numb)[1] == 'Bingo!!!':\n",
    "            #print('FIN-Bingo!!!', acc)\n",
    "            break\n",
    "        else:\n",
    "            line[i] = lin.replace('jmp', 'nop')\n",
    "    elif 'jmp' in lin:\n",
    "        line[i] = lin.replace('jmp', 'nop')\n",
    "        #print(line)\n",
    "        if iterator(line_numb)[1] == 'Bingo!!!':\n",
    "            #print('FIN-Bingo!!!', acc)\n",
    "            break\n",
    "        else:\n",
    "            line[i] = lin.replace('nop', 'jmp')\n",
    "\n",
    "print(accc)"
   ]
  },
  {
   "cell_type": "code",
   "execution_count": null,
   "metadata": {},
   "outputs": [],
   "source": []
  }
 ],
 "metadata": {
  "kernelspec": {
   "display_name": "Python 3",
   "language": "python",
   "name": "python3"
  },
  "language_info": {
   "codemirror_mode": {
    "name": "ipython",
    "version": 3
   },
   "file_extension": ".py",
   "mimetype": "text/x-python",
   "name": "python",
   "nbconvert_exporter": "python",
   "pygments_lexer": "ipython3",
   "version": "3.8.3"
  }
 },
 "nbformat": 4,
 "nbformat_minor": 4
}
