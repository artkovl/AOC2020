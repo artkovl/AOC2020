{
 "cells": [
  {
   "cell_type": "markdown",
   "metadata": {},
   "source": [
    "# Puzzle_05\n",
    "## part 1"
   ]
  },
  {
   "cell_type": "code",
   "execution_count": null,
   "metadata": {},
   "outputs": [],
   "source": [
    "\n",
    "with open('05 input.txt') as fh:\n",
    "    for line in fh:\n",
    "        if line[0] == F"
   ]
  },
  {
   "cell_type": "code",
   "execution_count": 32,
   "metadata": {},
   "outputs": [
    {
     "name": "stdout",
     "output_type": "stream",
     "text": [
      "row = 102\n",
      "col = 4\n",
      "ind = 820\n"
     ]
    }
   ],
   "source": [
    "line = 'BBFFBBFRLL'\n",
    "\n",
    "row = list(range(0, 128))\n",
    "for i in line[:7]:\n",
    "    if i == 'F':\n",
    "        sl_end = int(len(row) / 2)\n",
    "        row = row[:sl_end]\n",
    "    else:\n",
    "        sl_strt = int(len(row) / 2)\n",
    "        row = row[sl_strt:]\n",
    "print('row =', row[0])\n",
    "\n",
    "col = list(range(0, 8))\n",
    "for i in line[7:]:\n",
    "    if i == 'L':\n",
    "        sl_end = int(len(col) / 2)\n",
    "        col = col[:sl_end]\n",
    "    else:\n",
    "        sl_strt = int(len(col) / 2)\n",
    "        col = col[sl_strt:]\n",
    "print('col =', col[0])\n",
    "\n",
    "ind = row[0] * 8 + col[0]\n",
    "print('ind =', ind)"
   ]
  },
  {
   "cell_type": "code",
   "execution_count": 34,
   "metadata": {},
   "outputs": [
    {
     "name": "stdout",
     "output_type": "stream",
     "text": [
      "855\n"
     ]
    }
   ],
   "source": [
    "# Puzzle_05\n",
    "## part 1\n",
    "\n",
    "with open('05 input.txt') as fh:\n",
    "    seat_IDs = []\n",
    "        \n",
    "    for line in fh:\n",
    "        row = list(range(0, 128))\n",
    "        for i in line[:7]:\n",
    "            if i == 'F':\n",
    "                sl_end = int(len(row) / 2)\n",
    "                row = row[:sl_end]\n",
    "            else:\n",
    "                sl_strt = int(len(row) / 2)\n",
    "                row = row[sl_strt:]\n",
    "\n",
    "        col = list(range(0, 8))\n",
    "        for i in line[7:]:\n",
    "            if i == 'L':\n",
    "                sl_end = int(len(col) / 2)\n",
    "                col = col[:sl_end]\n",
    "            else:\n",
    "                sl_strt = int(len(col) / 2)\n",
    "                col = col[sl_strt:]\n",
    "\n",
    "        seat_id = row[0] * 8 + col[0]\n",
    "        seat_IDs.append(seat_id)\n",
    "        \n",
    "print(max(seat_IDs))"
   ]
  },
  {
   "cell_type": "code",
   "execution_count": 55,
   "metadata": {},
   "outputs": [
    {
     "name": "stdout",
     "output_type": "stream",
     "text": [
      "seat_ID: 552\n"
     ]
    }
   ],
   "source": [
    "# Puzzle_05\n",
    "## part 2\n",
    "\n",
    "with open('05 input.txt') as fh:\n",
    "    seat_IDs = []\n",
    "    seats_occupied = {}\n",
    "    \n",
    "    for line in fh:\n",
    "        row = list(range(0, 128))\n",
    "        for i in line[:7]:\n",
    "            if i == 'F':\n",
    "                sl_end = int(len(row) / 2)\n",
    "                row = row[:sl_end]\n",
    "            else:\n",
    "                sl_strt = int(len(row) / 2)\n",
    "                row = row[sl_strt:]\n",
    "\n",
    "        if row[0] not in seats_occupied:\n",
    "            seats_occupied[row[0]] = []\n",
    "\n",
    "        col = list(range(0, 8))\n",
    "        for i in line[7:]:\n",
    "            if i == 'L':\n",
    "                sl_end = int(len(col) / 2)\n",
    "                col = col[:sl_end]\n",
    "            else:\n",
    "                sl_strt = int(len(col) / 2)\n",
    "                col = col[sl_strt:]\n",
    "        \n",
    "        seats_occupied[row[0]].append(col[0])\n",
    "        \n",
    "    for row, seat in seats_occupied.items():\n",
    "        if len(seat) < 8:\n",
    "            if row - 1 in seats_occupied and row + 1 in seats_occupied:\n",
    "                seat_num = list((set(range(0,8))) - set(seat))[0]\n",
    "                #print(seat_num)\n",
    "                print('seat_ID:', row * 8 + seat_num)"
   ]
  },
  {
   "cell_type": "code",
   "execution_count": 46,
   "metadata": {},
   "outputs": [
    {
     "name": "stdout",
     "output_type": "stream",
     "text": [
      "[3, 1, 6, 4, 5, 2, 7]\n",
      "[2, 5, 7, 0, 1, 6, 4, 3]\n",
      "[1, 4, 0, 6, 5, 3, 2, 7]\n",
      "[2, 4, 5, 3, 6, 7, 1]\n",
      "[6, 1, 4, 3, 5, 0, 2, 7]\n"
     ]
    }
   ],
   "source": [
    "# print(seats_occupied[10]) - нет такого ряда\n",
    "print(seats_occupied[10])\n",
    "print(seats_occupied[11])\n",
    "\n",
    "print(seats_occupied[68])\n",
    "print(seats_occupied[69])\n",
    "print(seats_occupied[70])"
   ]
  },
  {
   "cell_type": "code",
   "execution_count": null,
   "metadata": {},
   "outputs": [],
   "source": []
  }
 ],
 "metadata": {
  "kernelspec": {
   "display_name": "Python 3",
   "language": "python",
   "name": "python3"
  },
  "language_info": {
   "codemirror_mode": {
    "name": "ipython",
    "version": 3
   },
   "file_extension": ".py",
   "mimetype": "text/x-python",
   "name": "python",
   "nbconvert_exporter": "python",
   "pygments_lexer": "ipython3",
   "version": "3.8.3"
  }
 },
 "nbformat": 4,
 "nbformat_minor": 4
}
